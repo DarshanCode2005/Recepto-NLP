{
 "cells": [
  {
   "cell_type": "code",
   "execution_count": 1,
   "id": "4cfce51d",
   "metadata": {},
   "outputs": [],
   "source": [
    "!pip install google-search-results"
   ]
  },
  {
   "cell_type": "markdown",
   "id": "ab493ae8",
   "metadata": {},
   "source": [
    "### Importing libraries"
   ]
  },
  {
   "cell_type": "code",
   "execution_count": 14,
   "id": "15a46201",
   "metadata": {},
   "outputs": [],
   "source": [
    "from deepface import DeepFace\n",
    "import requests\n",
    "from io import BytesIO\n",
    "from PIL import Image\n",
    "import json"
   ]
  },
  {
   "cell_type": "code",
   "execution_count": 1,
   "id": "50e8a3d2",
   "metadata": {},
   "outputs": [],
   "source": [
    "# Write your SerpAPI key here as api_key:\n",
    "api_key=\"\""
   ]
  },
  {
   "cell_type": "code",
   "execution_count": 2,
   "id": "ccdc1f68",
   "metadata": {},
   "outputs": [],
   "source": [
    "from serpapi import GoogleSearch"
   ]
  },
  {
   "cell_type": "markdown",
   "id": "ca172ec0",
   "metadata": {},
   "source": [
    "### Input Persona"
   ]
  },
  {
   "cell_type": "code",
   "execution_count": 3,
   "id": "892dc709",
   "metadata": {},
   "outputs": [],
   "source": [
    "persona = {\n",
    "        \n",
    "#     \"name\": \"Derek Koch\",\n",
    "#     \"image\": \"https://drive.google.com/file/d/1ON-0Ka1UHxedxRX4wI6rvTg-Qlk-Ytx1/view?usp=drive_link\",\n",
    "#     \"intro\": \"The Seeker (https://theseeker.storychamp.community/)\",\n",
    "#     \"timezone\": \"America/Chicago\",\n",
    "#     \"company_industry\": [],\n",
    "#     \"company_size\": [],\n",
    "#     \"social_profile\": []\n",
    "    \n",
    "    \n",
    "#     \"name\": \"Manoj Ranaweera\",\n",
    "#     \"image\": \"https://drive.google.com/file/d/1i86Q1Yhi6TpA7rQJXCxE0d_89LJRMLwD/view?usp=drive_link\",\n",
    "#     \"intro\": \"Techcelerate + Deal Lite + SkilledUp Life (https://skilledup.life, https://deallite.uk)\",\n",
    "#     \"timezone\": \"Europe/London\",\n",
    "#     \"company_industry\": \"Tech\",\n",
    "#     \"company_size\": [],\n",
    "#     \"social_profile\": []     \n",
    "     \n",
    "    \n",
    "#     \"name\": \"Gaurav Nemade\",\n",
    "#     \"image\": \"https://drive.google.com/file/d/1IgK6_gHu4lM55WovCqz1rEGuVw0136Kd/view?usp=drive_link\",\n",
    "#     \"intro\": \"Co-founder @ Inventive.ai (RFP + AI) | YC, Founding team @ Google AI, IIT\",\n",
    "#     \"timezone\": \"Asia/Kolkata\",\n",
    "#     \"company_industry\": \"AI\",\n",
    "#     \"company_size\": [],\n",
    "#     \"social_profile\": []\n",
    "    \n",
    "#      \"name\": \"Jose Shaji Erinjery\",\n",
    "#      \"image\": \"https://avatars.slack-edge.com/2023-06-08/5418513187520_e314431c7b5c3506ab74_original.jpg\",\n",
    "#      \"intro\": \"Strategy & Commercial Performance\",\n",
    "#      \"timezone\": \"Asia/Kolkata\",\n",
    "#      \"company_industry\": \"Pharmaceuticals\",\n",
    "#      \"company_size\": [],\n",
    "#      \"social_profile\": []\n",
    "    \n",
    "    \"name\": \"Vlada Rybak\",\n",
    "    \"image\": \"https://avatars.slack-edge.com/2023-09-25/5942882652514_4ba06621ab980aa47360_original.jpg\",\n",
    "    \"intro\": [],\n",
    "    \"timezone\": \"Asia/Jerusalem\",\n",
    "    \"company_industry\": [],\n",
    "    \"company_size\": [],\n",
    "    \"social_profile\": []\n",
    "    \n",
    "}"
   ]
  },
  {
   "cell_type": "markdown",
   "id": "f2afb837",
   "metadata": {},
   "source": [
    "### Setting up the search query for Linkedin profiles"
   ]
  },
  {
   "cell_type": "code",
   "execution_count": 4,
   "id": "8f3a7f33",
   "metadata": {},
   "outputs": [],
   "source": [
    "def build_search_queries(persona):\n",
    "    name = persona.get(\"name\", \"\")\n",
    "    intro = persona.get(\"intro\", \"\")\n",
    "\n",
    "    queries = [\n",
    "        f'\"{name}\" site:linkedin.com/in',\n",
    "        f'\"{name}\" \"{intro}\" site:linkedin.com/in',\n",
    "    ]\n",
    "\n",
    "    if name and len(name.split()) > 0:\n",
    "        queries.append(f'\"{name.split()[0]}\" \"{intro}\" site:linkedin.com/in')\n",
    "\n",
    "    return queries"
   ]
  },
  {
   "cell_type": "markdown",
   "id": "bde1439c",
   "metadata": {},
   "source": [
    "### Function for searching the Linkedin Profiles and extracting data from them, using queries"
   ]
  },
  {
   "cell_type": "code",
   "execution_count": 5,
   "id": "4131ca17",
   "metadata": {},
   "outputs": [],
   "source": [
    "def search_linkedin_profiles(persona, api_key, max_results=8):\n",
    "    queries = build_search_queries(persona)\n",
    "    seen = set()\n",
    "    candidates = []\n",
    "\n",
    "    for query in queries:\n",
    "        params = {\n",
    "            \"engine\": \"google\",\n",
    "            \"q\": query,\n",
    "            \"api_key\": api_key,\n",
    "            \"num\": max_results\n",
    "        }\n",
    "\n",
    "        search = GoogleSearch(params)\n",
    "        results = search.get_dict()\n",
    "\n",
    "        for result in results.get(\"organic_results\", []):\n",
    "            link = result.get(\"link\", \"\")\n",
    "            if \"linkedin.com/in/\" in link and link not in seen:\n",
    "                    candidates.append({\n",
    "                        \"link\": link,\n",
    "                        \"title\": result.get(\"title\"),\n",
    "                        \"snippet\": result.get(\"snippet\"),\n",
    "                    })\n",
    "                    seen.add(link)\n",
    "\n",
    "            if len(candidates) >= max_results:\n",
    "                break\n",
    "\n",
    "        if len(candidates) >= max_results:\n",
    "            break\n",
    "\n",
    "    return candidates\n"
   ]
  },
  {
   "cell_type": "code",
   "execution_count": 6,
   "id": "a6da39f4",
   "metadata": {},
   "outputs": [
    {
     "name": "stdout",
     "output_type": "stream",
     "text": [
      "1. https://ua.linkedin.com/in/vlada-rybak-43091b249\n",
      "Title: Vlada Rybak – Partnership Manager and Outreach specialist\n",
      "Snippet: Vlada Rybak. Link Building & Outreach Specialist I Open to Link exchange. Jooble. Kyiv, Kyiv City, Ukraine. 4 тис. послідовники 500+ контактів.\n",
      "\n",
      "2. https://ua.linkedin.com/in/vlada-rybak-83098548\n",
      "Title: Vlada Rybak – Ukraine | Професійний профіль\n",
      "Snippet: Регіон: Ukraine. Перегляньте профіль Vlada Rybak на LinkedIn, професійній спільноті з одним мільярдом учасників.\n",
      "\n",
      "3. https://www.linkedin.com/in/vlada-bolotova-34b911257\n",
      "Title: Vlada Bolotova - Miami, Florida, United States\n",
      "Snippet: Vlada Bolotova. University of Miami. Miami, Florida, United States. 587 followers 500+ connections.\n",
      "\n",
      "4. https://www.linkedin.com/in/vlada-vasilets\n",
      "Title: Vlada Vasilets - Peackor\n",
      "Snippet: My name is Vlada, and I'm passionate about helping People Leaders build strong, engaged… · Experience: Peackor · Education: Perm State Humanitarian ...\n",
      "\n",
      "5. https://ru.linkedin.com/in/vlada-p-93567a20a\n",
      "Title: Vlada P. – Recruitment Specialist – Tinkoff\n",
      "Snippet: Vlada P. Recruiter | Т-Банк | Project Management. Tinkoff Северо-Западный институт управления РАНХиГС. Санкт-Петербург, Санкт-Петербург, Россия. 4 тыс ...\n",
      "\n"
     ]
    }
   ],
   "source": [
    "results = search_linkedin_profiles(persona,api_key,5)\n",
    "\n",
    "links=[]\n",
    "\n",
    "for i, r in enumerate(results, 1):\n",
    "    print(f\"{i}. {r['link']}\")\n",
    "    print(f\"Title: {r['title']}\")\n",
    "    print(f\"Snippet: {r['snippet']}\\n\")\n",
    "    links.append(r[\"link\"])"
   ]
  },
  {
   "cell_type": "markdown",
   "id": "c27ae06e",
   "metadata": {},
   "source": [
    "### A list of Linkedin profile urls called Links"
   ]
  },
  {
   "cell_type": "code",
   "execution_count": 7,
   "id": "92f9cf9b",
   "metadata": {},
   "outputs": [
    {
     "data": {
      "text/plain": [
       "['https://ua.linkedin.com/in/vlada-rybak-43091b249',\n",
       " 'https://ua.linkedin.com/in/vlada-rybak-83098548',\n",
       " 'https://www.linkedin.com/in/vlada-bolotova-34b911257',\n",
       " 'https://www.linkedin.com/in/vlada-vasilets',\n",
       " 'https://ru.linkedin.com/in/vlada-p-93567a20a']"
      ]
     },
     "execution_count": 7,
     "metadata": {},
     "output_type": "execute_result"
    }
   ],
   "source": [
    "links"
   ]
  },
  {
   "cell_type": "markdown",
   "id": "d41a1e27",
   "metadata": {},
   "source": [
    "### Using BrightData API to fetch results from Linkedin Profile Urls (mainly getting Profile Pic Url)"
   ]
  },
  {
   "cell_type": "code",
   "execution_count": 8,
   "id": "fb96f227",
   "metadata": {},
   "outputs": [],
   "source": [
    "import requests\n",
    "import time\n",
    "\n",
    "def get_profile_brightdata(link, api_key):\n",
    "    BASE = \"https://api.brightdata.com/datasets/v3\"\n",
    "    headers = {\n",
    "        \"Authorization\": f\"Bearer {api_key}\",\n",
    "        \"Content-Type\": \"application/json\",\n",
    "    }\n",
    "    \n",
    "    all_profiles = []\n",
    "\n",
    "    for link in links:\n",
    "        link = link.strip() \n",
    "    \n",
    "        params = {\n",
    "        \"dataset_id\": \"gd_l1viktl72bvl7bjuj0\",\n",
    "        \"include_errors\": \"true\",\n",
    "    }\n",
    "\n",
    "        trigger = requests.post(\n",
    "            f\"{BASE}/trigger\",\n",
    "            headers=headers,\n",
    "            params=params,\n",
    "            json=[{\"url\": link}],\n",
    "    )\n",
    "        trigger.raise_for_status()\n",
    "        snap_resp = trigger.json()\n",
    "        snapshot_id = snap_resp.get(\"snapshot_id\")\n",
    "        if not snapshot_id:\n",
    "            raise RuntimeError(f\"No snapshot_id in trigger response: {snap_resp}\")\n",
    "\n",
    "        print(\"Triggered snapshot:\", snapshot_id)\n",
    "\n",
    "\n",
    "        download_url = f\"{BASE}/snapshot/{snapshot_id}\"\n",
    "        for attempt in range(60):  \n",
    "            r = requests.get(download_url, headers=headers)\n",
    "\n",
    "            if r.status_code == 202:\n",
    "                try:\n",
    "                    status = r.json().get(\"status\")\n",
    "                except ValueError:\n",
    "                    status = \"unknown\"\n",
    "                print(f\"[{attempt+1:02d}/60] task not completed status={status}\")\n",
    "                time.sleep(5)\n",
    "                continue\n",
    "\n",
    "            if r.status_code == 404:\n",
    "                raise RuntimeError(f\"Snapshot not found: {snapshot_id}\")\n",
    "\n",
    "            r.raise_for_status()\n",
    "\n",
    "            data = r.json()\n",
    "            print(\"Snapshot ready, fetched results.\")\n",
    "            \n",
    "            if \"results\" in data:\n",
    "                all_profiles.extend(data[\"results\"])\n",
    "            else:\n",
    "                all_profiles.append(data)\n",
    "                \n",
    "            break    \n",
    "            \n",
    "\n",
    "    return all_profiles"
   ]
  },
  {
   "cell_type": "markdown",
   "id": "87d540af",
   "metadata": {},
   "source": [
    "### Note: This code will take some time to run and fetch the profile pic urls."
   ]
  },
  {
   "cell_type": "code",
   "execution_count": 9,
   "id": "acde27a3",
   "metadata": {
    "scrolled": false
   },
   "outputs": [
    {
     "name": "stdout",
     "output_type": "stream",
     "text": [
      "Triggered snapshot: s_m9kadjpgwfyic3kmd\n",
      "[01/60] task not completed status=running\n",
      "[02/60] task not completed status=running\n",
      "[03/60] task not completed status=running\n",
      "[04/60] task not completed status=running\n",
      "[05/60] task not completed status=running\n",
      "[06/60] task not completed status=running\n",
      "[07/60] task not completed status=running\n",
      "[08/60] task not completed status=running\n",
      "[09/60] task not completed status=running\n",
      "[10/60] task not completed status=running\n",
      "[11/60] task not completed status=running\n",
      "[12/60] task not completed status=running\n",
      "[13/60] task not completed status=running\n",
      "[14/60] task not completed status=running\n",
      "[15/60] task not completed status=running\n",
      "[16/60] task not completed status=running\n",
      "[17/60] task not completed status=running\n",
      "[18/60] task not completed status=running\n",
      "[19/60] task not completed status=running\n",
      "[20/60] task not completed status=running\n",
      "[21/60] task not completed status=running\n",
      "[22/60] task not completed status=running\n",
      "[23/60] task not completed status=running\n",
      "[24/60] task not completed status=running\n",
      "[25/60] task not completed status=running\n",
      "Snapshot ready, fetched results.\n",
      "Triggered snapshot: s_m9kai13x2pka6sxtpu\n",
      "[01/60] task not completed status=running\n",
      "[02/60] task not completed status=running\n",
      "[03/60] task not completed status=running\n",
      "[04/60] task not completed status=running\n",
      "[05/60] task not completed status=running\n",
      "[06/60] task not completed status=running\n",
      "[07/60] task not completed status=running\n",
      "[08/60] task not completed status=running\n",
      "[09/60] task not completed status=running\n",
      "[10/60] task not completed status=running\n",
      "[11/60] task not completed status=running\n",
      "[12/60] task not completed status=running\n",
      "[13/60] task not completed status=running\n",
      "Snapshot ready, fetched results.\n",
      "Triggered snapshot: s_m9kakc681mt9gd6njv\n",
      "[01/60] task not completed status=running\n",
      "[02/60] task not completed status=running\n",
      "[03/60] task not completed status=running\n",
      "[04/60] task not completed status=running\n",
      "[05/60] task not completed status=running\n",
      "[06/60] task not completed status=running\n",
      "Snapshot ready, fetched results.\n",
      "Triggered snapshot: s_m9kalhnx1owo9btyj4\n",
      "[01/60] task not completed status=running\n",
      "[02/60] task not completed status=running\n",
      "[03/60] task not completed status=running\n",
      "[04/60] task not completed status=running\n",
      "[05/60] task not completed status=running\n",
      "Snapshot ready, fetched results.\n",
      "Triggered snapshot: s_m9kamfcn1d8n8pbd1t\n",
      "[01/60] task not completed status=running\n",
      "[02/60] task not completed status=running\n",
      "Snapshot ready, fetched results.\n",
      "\n",
      "Avatar #1: https://media.licdn.com/dms/image/v2/D4E03AQHcfDBFRewUnw/profile-displayphoto-shrink_200_200/profile-displayphoto-shrink_200_200/0/1695620149191?e=2147483647&v=beta&t=-GE2jsOGQwPs5g8n3RmNnxT2eSMFaRBVQU5Az70uMLQ\n",
      "\n",
      "Avatar #2: https://media.licdn.com/dms/image/v2/C5603AQFUFR1tSqvXwA/profile-displayphoto-shrink_200_200/profile-displayphoto-shrink_200_200/0/1651827932926?e=2147483647&v=beta&t=7GW1MXH_rotjO-N9SIpyw9fkje96ymAJo1qL5-6R4To\n",
      "\n",
      "Avatar #3: https://media.licdn.com/dms/image/v2/D4E03AQF8G42QGC6Buw/profile-displayphoto-shrink_200_200/profile-displayphoto-shrink_200_200/0/1678225840064?e=2147483647&v=beta&t=8hdN9x2vAmUjKrn8vjlTdSDA_b4U2igvxn2JwHfWc6Y\n",
      "\n",
      "Avatar #4: https://media.licdn.com/dms/image/v2/D4E03AQHeknlnxA1gQA/profile-displayphoto-shrink_200_200/B4EZXRndEGGwAY-/0/1742978536503?e=2147483647&v=beta&t=Tq8jIqvvJDzMSyXvD96N-zwWYXoADJKrbACYhhGj3SQ\n",
      "\n",
      "Avatar #5: https://media.licdn.com/dms/image/v2/D4E03AQEQL_2uvobHYg/profile-displayphoto-shrink_200_200/B4EZO_mth_HsAY-/0/1734086417043?e=2147483647&v=beta&t=gcYEcixvNk4uUVGHEB7vOS212hJBZZlqWDw3G9_g0LY\n"
     ]
    }
   ],
   "source": [
    "# Write your BrightData API key:\n",
    "api_key = \"\"\n",
    "\n",
    "\n",
    "profiles = get_profile_brightdata(links, api_key)\n",
    "\n",
    "filtered_profiles = []\n",
    "linkedin_urls=[]\n",
    "\n",
    "for link in links:\n",
    "    link_results = [p for p in profiles if p.get(\"url\", \"\").strip(\"/\") == link.strip(\"/\")]\n",
    "    \n",
    "    if link_results:\n",
    "        filtered_profiles.append(link_results[0])\n",
    "    else:\n",
    "        filtered_profiles.append({\"url\": link, \"avatar\": None, \"error\": \"No exact match found\"})\n",
    "\n",
    "# Step 3: Print avatar URLs\n",
    "\n",
    "for i, profile in enumerate(filtered_profiles):\n",
    "    if profile.get(\"avatar\"):\n",
    "        print(f\"\\nAvatar #{i+1}: {profile['avatar']}\")\n",
    "        linkedin_urls.append(profile['avatar'])\n",
    "    else:\n",
    "        print(f\"\\nAvatar #{i+1}: [No avatar] – {profile.get('error')}\")\n",
    "        linkedin_urls.append(\"No avatar\")\n",
    "\n"
   ]
  },
  {
   "cell_type": "markdown",
   "id": "d86949af",
   "metadata": {},
   "source": [
    "### A list of Profile pic urls fetched from above code"
   ]
  },
  {
   "cell_type": "code",
   "execution_count": 10,
   "id": "0e40b42f",
   "metadata": {},
   "outputs": [
    {
     "data": {
      "text/plain": [
       "['https://media.licdn.com/dms/image/v2/D4E03AQHcfDBFRewUnw/profile-displayphoto-shrink_200_200/profile-displayphoto-shrink_200_200/0/1695620149191?e=2147483647&v=beta&t=-GE2jsOGQwPs5g8n3RmNnxT2eSMFaRBVQU5Az70uMLQ',\n",
       " 'https://media.licdn.com/dms/image/v2/C5603AQFUFR1tSqvXwA/profile-displayphoto-shrink_200_200/profile-displayphoto-shrink_200_200/0/1651827932926?e=2147483647&v=beta&t=7GW1MXH_rotjO-N9SIpyw9fkje96ymAJo1qL5-6R4To',\n",
       " 'https://media.licdn.com/dms/image/v2/D4E03AQF8G42QGC6Buw/profile-displayphoto-shrink_200_200/profile-displayphoto-shrink_200_200/0/1678225840064?e=2147483647&v=beta&t=8hdN9x2vAmUjKrn8vjlTdSDA_b4U2igvxn2JwHfWc6Y',\n",
       " 'https://media.licdn.com/dms/image/v2/D4E03AQHeknlnxA1gQA/profile-displayphoto-shrink_200_200/B4EZXRndEGGwAY-/0/1742978536503?e=2147483647&v=beta&t=Tq8jIqvvJDzMSyXvD96N-zwWYXoADJKrbACYhhGj3SQ',\n",
       " 'https://media.licdn.com/dms/image/v2/D4E03AQEQL_2uvobHYg/profile-displayphoto-shrink_200_200/B4EZO_mth_HsAY-/0/1734086417043?e=2147483647&v=beta&t=gcYEcixvNk4uUVGHEB7vOS212hJBZZlqWDw3G9_g0LY']"
      ]
     },
     "execution_count": 10,
     "metadata": {},
     "output_type": "execute_result"
    }
   ],
   "source": [
    "linkedin_urls"
   ]
  },
  {
   "cell_type": "markdown",
   "id": "aeec13ea",
   "metadata": {},
   "source": [
    "### Getting the input persona image to compare with the linkedin profile pics"
   ]
  },
  {
   "cell_type": "code",
   "execution_count": 11,
   "id": "28fef548",
   "metadata": {},
   "outputs": [],
   "source": [
    "reference_url = persona.get(\"image\")\n",
    "\n",
    "if not reference_url:\n",
    "    raise ValueError(\"Reference image URL not found in persona.\")"
   ]
  },
  {
   "cell_type": "markdown",
   "id": "96feb7ff",
   "metadata": {},
   "source": [
    "### Function to get the correct path for reference(input persona) image to put it further in DeepFace function for comparison "
   ]
  },
  {
   "cell_type": "code",
   "execution_count": 12,
   "id": "70956dca",
   "metadata": {},
   "outputs": [],
   "source": [
    "def load_reference_image(image_url_or_path):\n",
    "    # If it's a Google Drive share link\n",
    "    drive_match = re.search(r'drive\\.google\\.com\\/file\\/d\\/([^\\/]+)', image_url_or_path)\n",
    "    \n",
    "    if drive_match:\n",
    "        file_id = drive_match.group(1)\n",
    "        direct_url = f\"https://drive.google.com/uc?export=download&id={file_id}\"\n",
    "        print(f\"Fetching from Google Drive: {direct_url}\")\n",
    "        response = requests.get(direct_url)\n",
    "        img = Image.open(BytesIO(response.content)).convert(\"RGB\")\n",
    "#         img = Image.open(BytesIO(response.content))\n",
    "        img.save(\"reference.jpg\")  # Save temporarily\n",
    "        return \"reference.jpg\"     # Return path for DeepFace\n",
    "    \n",
    "    elif image_url_or_path.startswith(\"http\"):\n",
    "        # If it's a direct image URL (.jpg, .png, etc.)\n",
    "        print(f\"Fetching from image URL: {image_url_or_path}\")\n",
    "        response = requests.get(image_url_or_path)\n",
    "        img = Image.open(BytesIO(response.content))\n",
    "        img.save(\"reference.jpg\")\n",
    "        return \"reference.jpg\"\n",
    "    \n",
    "    else:\n",
    "        # Local file path\n",
    "        print(f\"Using local file: {image_url_or_path}\")\n",
    "        return image_url_or_path\n"
   ]
  },
  {
   "cell_type": "code",
   "execution_count": 15,
   "id": "d977004b",
   "metadata": {},
   "outputs": [
    {
     "name": "stdout",
     "output_type": "stream",
     "text": [
      "Fetching from image URL: https://avatars.slack-edge.com/2023-09-25/5942882652514_4ba06621ab980aa47360_original.jpg\n"
     ]
    }
   ],
   "source": [
    "import re\n",
    "reference_path = load_reference_image(reference_url)"
   ]
  },
  {
   "cell_type": "markdown",
   "id": "85f9538f",
   "metadata": {},
   "source": [
    "### Final function to compare both the images and getting the best matched Linkedin profile pic with the score"
   ]
  },
  {
   "cell_type": "code",
   "execution_count": 16,
   "id": "0f73d3f0",
   "metadata": {},
   "outputs": [
    {
     "name": "stdout",
     "output_type": "stream",
     "text": [
      "LinkedIn URL: https://media.licdn.com/dms/image/v2/D4E03AQHcfDBFRewUnw/profile-displayphoto-shrink_200_200/profile-displayphoto-shrink_200_200/0/1695620149191?e=2147483647&v=beta&t=-GE2jsOGQwPs5g8n3RmNnxT2eSMFaRBVQU5Az70uMLQ\n",
      "Distance score: 0.02115326856648836\n",
      " \n",
      "LinkedIn URL: https://media.licdn.com/dms/image/v2/C5603AQFUFR1tSqvXwA/profile-displayphoto-shrink_200_200/profile-displayphoto-shrink_200_200/0/1651827932926?e=2147483647&v=beta&t=7GW1MXH_rotjO-N9SIpyw9fkje96ymAJo1qL5-6R4To\n",
      "Distance score: 0.828765092912626\n",
      " \n",
      "LinkedIn URL: https://media.licdn.com/dms/image/v2/D4E03AQF8G42QGC6Buw/profile-displayphoto-shrink_200_200/profile-displayphoto-shrink_200_200/0/1678225840064?e=2147483647&v=beta&t=8hdN9x2vAmUjKrn8vjlTdSDA_b4U2igvxn2JwHfWc6Y\n",
      "Distance score: 0.8468549956315818\n",
      " \n",
      "LinkedIn URL: https://media.licdn.com/dms/image/v2/D4E03AQHeknlnxA1gQA/profile-displayphoto-shrink_200_200/B4EZXRndEGGwAY-/0/1742978536503?e=2147483647&v=beta&t=Tq8jIqvvJDzMSyXvD96N-zwWYXoADJKrbACYhhGj3SQ\n",
      "Distance score: 0.9364876166528661\n",
      " \n",
      "Error comparing https://media.licdn.com/dms/image/v2/D4E03AQEQL_2uvobHYg/profile-displayphoto-shrink_200_200/B4EZO_mth_HsAY-/0/1734086417043?e=2147483647&v=beta&t=gcYEcixvNk4uUVGHEB7vOS212hJBZZlqWDw3G9_g0LY: Exception while processing img2_path\n",
      " \n",
      " RESULT : \n",
      "\n",
      "BEST MATCH :\n",
      "LinkedIn Profile Pic URL: https://media.licdn.com/dms/image/v2/D4E03AQHcfDBFRewUnw/profile-displayphoto-shrink_200_200/profile-displayphoto-shrink_200_200/0/1695620149191?e=2147483647&v=beta&t=-GE2jsOGQwPs5g8n3RmNnxT2eSMFaRBVQU5Az70uMLQ\n",
      "Confidence score: 0.02115326856648836\n"
     ]
    }
   ],
   "source": [
    "# Function to download image from URL\n",
    "def get_image_from_url(url):\n",
    "    response = requests.get(url)\n",
    "    response.raise_for_status()\n",
    "    return Image.open(BytesIO(response.content)).convert(\"RGB\")\n",
    "\n",
    "# Function to compare reference image against multiple LinkedIn avatars\n",
    "def compare_reference_to_linkedin(reference_url, linkedin_urls):\n",
    "    best_match = None\n",
    "    best_score = float('inf')  # Start with a very high number\n",
    "\n",
    "    # Loop through LinkedIn image URLs\n",
    "    for url in linkedin_urls:\n",
    "        try:\n",
    "#             img2 = get_image_from_url(url)\n",
    "            result = DeepFace.verify(img1_path=reference_path, img2_path=url)\n",
    "            score = result[\"distance\"]\n",
    "\n",
    "            print(f\"LinkedIn URL: {url}\")\n",
    "            print(f\"Distance score: {score}\")\n",
    "            print(\" \")\n",
    "\n",
    "            # Track the best match (lowest score)\n",
    "            if score < best_score:\n",
    "                best_score = score\n",
    "                best_match = url\n",
    "        except Exception as e:\n",
    "            print(f\"Error comparing {url}: {e}\")\n",
    "            print(\" \")\n",
    "    \n",
    "    return best_match, best_score\n",
    "\n",
    "\n",
    "# Run the comparison\n",
    "best_match, best_score = compare_reference_to_linkedin(reference_url, linkedin_urls)\n",
    "\n",
    "# Output best match\n",
    "print(\" RESULT : \")\n",
    "if best_match and best_score<0.3:\n",
    "    print(\"\\nBEST MATCH :\")\n",
    "    print(f\"LinkedIn Profile Pic URL: {best_match}\")\n",
    "    print(f\"Confidence score: {best_score}\")\n",
    "else:\n",
    "    print(\"For image, No match found.\")\n"
   ]
  },
  {
   "cell_type": "markdown",
   "id": "a9f26d78",
   "metadata": {},
   "source": [
    "### The lower the score, the more confident the model is that the image belong to the same person."
   ]
  },
  {
   "cell_type": "code",
   "execution_count": null,
   "id": "0db91d09",
   "metadata": {},
   "outputs": [],
   "source": []
  },
  {
   "cell_type": "code",
   "execution_count": null,
   "id": "a3f6d81e",
   "metadata": {},
   "outputs": [],
   "source": []
  }
 ],
 "metadata": {
  "kernelspec": {
   "display_name": "Python 3 (ipykernel)",
   "language": "python",
   "name": "python3"
  },
  "language_info": {
   "codemirror_mode": {
    "name": "ipython",
    "version": 3
   },
   "file_extension": ".py",
   "mimetype": "text/x-python",
   "name": "python",
   "nbconvert_exporter": "python",
   "pygments_lexer": "ipython3",
   "version": "3.11.5"
  }
 },
 "nbformat": 4,
 "nbformat_minor": 5
}
